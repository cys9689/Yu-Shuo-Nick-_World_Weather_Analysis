{
 "cells": [
  {
   "cell_type": "code",
   "execution_count": 2,
   "metadata": {},
   "outputs": [],
   "source": [
    "# import\n",
    "import gmaps.datasets\n",
    "import matplotlib.pyplot as plt\n",
    "import numpy as np\n",
    "import pandas as pd\n",
    "import gmaps\n",
    "import requests\n",
    "# Import the API key.\n",
    "from config1 import g_key\n",
    "gmaps.configure(api_key=g_key)"
   ]
  },
  {
   "cell_type": "code",
   "execution_count": 4,
   "metadata": {},
   "outputs": [
    {
     "data": {
      "text/html": [
       "<div>\n",
       "<style scoped>\n",
       "    .dataframe tbody tr th:only-of-type {\n",
       "        vertical-align: middle;\n",
       "    }\n",
       "\n",
       "    .dataframe tbody tr th {\n",
       "        vertical-align: top;\n",
       "    }\n",
       "\n",
       "    .dataframe thead th {\n",
       "        text-align: right;\n",
       "    }\n",
       "</style>\n",
       "<table border=\"1\" class=\"dataframe\">\n",
       "  <thead>\n",
       "    <tr style=\"text-align: right;\">\n",
       "      <th></th>\n",
       "      <th>City_ID</th>\n",
       "      <th>City</th>\n",
       "      <th>Max Temp</th>\n",
       "      <th>Current status</th>\n",
       "      <th>Lat</th>\n",
       "      <th>Lng</th>\n",
       "      <th>Hotel Name</th>\n",
       "    </tr>\n",
       "  </thead>\n",
       "  <tbody>\n",
       "    <tr>\n",
       "      <td>0</td>\n",
       "      <td>3</td>\n",
       "      <td>atuona</td>\n",
       "      <td>80.64</td>\n",
       "      <td>broken clouds</td>\n",
       "      <td>-9.80</td>\n",
       "      <td>-139.03</td>\n",
       "      <td>Villa Enata</td>\n",
       "    </tr>\n",
       "    <tr>\n",
       "      <td>1</td>\n",
       "      <td>13</td>\n",
       "      <td>itoman</td>\n",
       "      <td>75.20</td>\n",
       "      <td>few clouds</td>\n",
       "      <td>26.12</td>\n",
       "      <td>127.67</td>\n",
       "      <td>Southern Beach Hotel &amp; Resort Okinawa</td>\n",
       "    </tr>\n",
       "    <tr>\n",
       "      <td>2</td>\n",
       "      <td>21</td>\n",
       "      <td>biltine</td>\n",
       "      <td>75.16</td>\n",
       "      <td>clear sky</td>\n",
       "      <td>14.53</td>\n",
       "      <td>20.93</td>\n",
       "      <td>Hôtel Trois Étoiles de Biltine</td>\n",
       "    </tr>\n",
       "    <tr>\n",
       "      <td>3</td>\n",
       "      <td>32</td>\n",
       "      <td>kabanjahe</td>\n",
       "      <td>84.20</td>\n",
       "      <td>broken clouds</td>\n",
       "      <td>3.10</td>\n",
       "      <td>98.49</td>\n",
       "      <td>Pelindung Bawah Losmen</td>\n",
       "    </tr>\n",
       "    <tr>\n",
       "      <td>4</td>\n",
       "      <td>35</td>\n",
       "      <td>nyimba</td>\n",
       "      <td>83.73</td>\n",
       "      <td>clear sky</td>\n",
       "      <td>-14.56</td>\n",
       "      <td>30.81</td>\n",
       "      <td>Dali Dali Lodge</td>\n",
       "    </tr>\n",
       "  </tbody>\n",
       "</table>\n",
       "</div>"
      ],
      "text/plain": [
       "   City_ID       City  Max Temp Current status    Lat     Lng  \\\n",
       "0        3     atuona     80.64  broken clouds  -9.80 -139.03   \n",
       "1       13     itoman     75.20     few clouds  26.12  127.67   \n",
       "2       21    biltine     75.16      clear sky  14.53   20.93   \n",
       "3       32  kabanjahe     84.20  broken clouds   3.10   98.49   \n",
       "4       35     nyimba     83.73      clear sky -14.56   30.81   \n",
       "\n",
       "                              Hotel Name  \n",
       "0                            Villa Enata  \n",
       "1  Southern Beach Hotel & Resort Okinawa  \n",
       "2         Hôtel Trois Étoiles de Biltine  \n",
       "3                 Pelindung Bawah Losmen  \n",
       "4                        Dali Dali Lodge  "
      ]
     },
     "execution_count": 4,
     "metadata": {},
     "output_type": "execute_result"
    }
   ],
   "source": [
    "vacation_data=\"WeatherPy_vacation.csv\"\n",
    "vacation_data_df=pd.read_csv(vacation_data)\n",
    "vacation_data_df.head()"
   ]
  },
  {
   "cell_type": "code",
   "execution_count": null,
   "metadata": {},
   "outputs": [],
   "source": []
  }
 ],
 "metadata": {
  "kernelspec": {
   "display_name": "PythonData",
   "language": "python",
   "name": "pythondata"
  },
  "language_info": {
   "codemirror_mode": {
    "name": "ipython",
    "version": 3
   },
   "file_extension": ".py",
   "mimetype": "text/x-python",
   "name": "python",
   "nbconvert_exporter": "python",
   "pygments_lexer": "ipython3",
   "version": "3.6.9"
  }
 },
 "nbformat": 4,
 "nbformat_minor": 2
}
