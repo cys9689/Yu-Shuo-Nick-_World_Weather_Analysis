{
 "cells": [
  {
   "cell_type": "code",
   "execution_count": 2,
   "metadata": {},
   "outputs": [
    {
     "name": "stdout",
     "output_type": "stream",
     "text": [
      "Requirement already satisfied: citipy in /anaconda3/envs/PythonData/lib/python3.6/site-packages (0.0.5)\n",
      "Requirement already satisfied: kdtree>=0.12 in /anaconda3/envs/PythonData/lib/python3.6/site-packages (from citipy) (0.16)\n",
      "Note: you may need to restart the kernel to use updated packages.\n"
     ]
    }
   ],
   "source": [
    "pip install citipy"
   ]
  },
  {
   "cell_type": "code",
   "execution_count": 3,
   "metadata": {},
   "outputs": [],
   "source": [
    "from citipy import citipy"
   ]
  },
  {
   "cell_type": "code",
   "execution_count": 32,
   "metadata": {},
   "outputs": [],
   "source": [
    "import pandas as pd\n",
    "import matplotlib.pyplot as plt\n",
    "import numpy as np\n",
    "import requests as req\n",
    "from config import weather_api_key"
   ]
  },
  {
   "cell_type": "code",
   "execution_count": 33,
   "metadata": {},
   "outputs": [],
   "source": [
    "lats = np.random.uniform(low=-90.000, high=90.000, size=1500)\n",
    "lngs = np.random.uniform(low=-180.000, high=180.000, size=1500)\n",
    "lat_lngs = zip(lats, lngs)\n"
   ]
  },
  {
   "cell_type": "code",
   "execution_count": 34,
   "metadata": {},
   "outputs": [
    {
     "data": {
      "text/plain": [
       "597"
      ]
     },
     "execution_count": 34,
     "metadata": {},
     "output_type": "execute_result"
    }
   ],
   "source": [
    "cities = []\n",
    "# Identify the nearest city for each latitude and longitude combination.\n",
    "for lat_lng in lat_lngs:\n",
    "    city = citipy.nearest_city(lat_lng[0], lat_lng[1]).city_name\n",
    "\n",
    "    # If the city is unique, then we will add it to the cities list.\n",
    "    if city not in cities:\n",
    "        cities.append(city)\n",
    "# Print the city count to confirm sufficient count.\n",
    "len(cities)\n"
   ]
  },
  {
   "cell_type": "code",
   "execution_count": 35,
   "metadata": {},
   "outputs": [
    {
     "name": "stdout",
     "output_type": "stream",
     "text": [
      "http://api.openweathermap.org/data/2.5/weather?units=Imperial&APPID=c803516c73764b3bf14e35c7f377d2d9\n"
     ]
    }
   ],
   "source": [
    "url = \"http://api.openweathermap.org/data/2.5/weather?units=Imperial&APPID=\" + weather_api_key\n",
    "print(url)"
   ]
  },
  {
   "cell_type": "code",
   "execution_count": 36,
   "metadata": {},
   "outputs": [
    {
     "name": "stdout",
     "output_type": "stream",
     "text": [
      "http://api.openweathermap.org/data/2.5/weather?units=Imperial&APPID=c803516c73764b3bf14e35c7f377d2d9&q=Boston\n"
     ]
    }
   ],
   "source": [
    "city_url = url + \"&q=\" + \"Boston\"\n",
    "print(city_url)"
   ]
  },
  {
   "cell_type": "code",
   "execution_count": 10,
   "metadata": {},
   "outputs": [
    {
     "data": {
      "text/plain": [
       "<Response [200]>"
      ]
     },
     "execution_count": 10,
     "metadata": {},
     "output_type": "execute_result"
    }
   ],
   "source": [
    "city_weather=requests.get(city_url)\n",
    "city_weather"
   ]
  },
  {
   "cell_type": "code",
   "execution_count": 11,
   "metadata": {},
   "outputs": [
    {
     "data": {
      "text/plain": [
       "200"
      ]
     },
     "execution_count": 11,
     "metadata": {},
     "output_type": "execute_result"
    }
   ],
   "source": [
    "city_weather.status_code"
   ]
  },
  {
   "cell_type": "code",
   "execution_count": 12,
   "metadata": {},
   "outputs": [
    {
     "data": {
      "text/plain": [
       "'{\"coord\":{\"lon\":-71.06,\"lat\":42.36},\"weather\":[{\"id\":802,\"main\":\"Clouds\",\"description\":\"scattered clouds\",\"icon\":\"03n\"}],\"base\":\"stations\",\"main\":{\"temp\":45.5,\"pressure\":1014,\"humidity\":52,\"temp_min\":42.01,\"temp_max\":48.99},\"wind\":{\"speed\":12.75,\"deg\":200},\"clouds\":{\"all\":45},\"dt\":1573424545,\"sys\":{\"type\":1,\"id\":4967,\"country\":\"US\",\"sunrise\":1573385312,\"sunset\":1573421271},\"timezone\":-18000,\"id\":4930956,\"name\":\"Boston\",\"cod\":200}'"
      ]
     },
     "execution_count": 12,
     "metadata": {},
     "output_type": "execute_result"
    }
   ],
   "source": [
    "city_weather.text"
   ]
  },
  {
   "cell_type": "code",
   "execution_count": 17,
   "metadata": {},
   "outputs": [
    {
     "data": {
      "text/plain": [
       "{'coord': {'lon': -71.06, 'lat': 42.36},\n",
       " 'weather': [{'id': 802,\n",
       "   'main': 'Clouds',\n",
       "   'description': 'scattered clouds',\n",
       "   'icon': '03n'}],\n",
       " 'base': 'stations',\n",
       " 'main': {'temp': 47.34,\n",
       "  'pressure': 1015,\n",
       "  'humidity': 53,\n",
       "  'temp_min': 44.01,\n",
       "  'temp_max': 50},\n",
       " 'visibility': 16093,\n",
       " 'wind': {'speed': 9.17, 'deg': 210, 'gust': 17.22},\n",
       " 'clouds': {'all': 40},\n",
       " 'dt': 1573422309,\n",
       " 'sys': {'type': 1,\n",
       "  'id': 4210,\n",
       "  'country': 'US',\n",
       "  'sunrise': 1573385312,\n",
       "  'sunset': 1573421271},\n",
       " 'timezone': -18000,\n",
       " 'id': 4930956,\n",
       " 'name': 'Boston',\n",
       " 'cod': 200}"
      ]
     },
     "execution_count": 17,
     "metadata": {},
     "output_type": "execute_result"
    }
   ],
   "source": [
    "city_weather.json()"
   ]
  },
  {
   "cell_type": "code",
   "execution_count": 37,
   "metadata": {},
   "outputs": [
    {
     "name": "stdout",
     "output_type": "stream",
     "text": [
      "City weather found.\n"
     ]
    }
   ],
   "source": [
    "##create an endpoint URL for a city\n",
    "url = \"http://api.openweathermap.org/data/2.5/weather?units=Imperial&APPID=\" + weather_api_key\n",
    "city_url= url + \"&q=\"+\"Boston\"\n",
    "city_weather=requests.get(city_url)\n",
    "if city_weather.status_code ==200:\n",
    "    print(f\"City weather found.\")\n",
    "else:\n",
    "    print(f\"city weather not found\")"
   ]
  },
  {
   "cell_type": "code",
   "execution_count": 38,
   "metadata": {},
   "outputs": [
    {
     "name": "stdout",
     "output_type": "stream",
     "text": [
      "http://api.openweathermap.org/data/2.5/weather?units=Imperial&APPID=c803516c73764b3bf14e35c7f377d2d9&q=Boston\n"
     ]
    }
   ],
   "source": [
    "print(city_url)"
   ]
  },
  {
   "cell_type": "code",
   "execution_count": 39,
   "metadata": {},
   "outputs": [],
   "source": [
    "boston_data=city_weather.json()"
   ]
  },
  {
   "cell_type": "code",
   "execution_count": 21,
   "metadata": {},
   "outputs": [
    {
     "name": "stdout",
     "output_type": "stream",
     "text": [
      "42.36 -71.06 50 53 40 9.17\n"
     ]
    }
   ],
   "source": [
    "lat=boston_data[\"coord\"][\"lat\"]\n",
    "lng=boston_data[\"coord\"][\"lon\"]\n",
    "max_temp=boston_data[\"main\"][\"temp_max\"]\n",
    "humidity=boston_data[\"main\"][\"humidity\"]\n",
    "clouds=boston_data[\"clouds\"][\"all\"]\n",
    "wind=boston_data[\"wind\"][\"speed\"]\n",
    "print(lat,lng,max_temp,humidity,clouds,wind)"
   ]
  },
  {
   "cell_type": "code",
   "execution_count": 22,
   "metadata": {},
   "outputs": [
    {
     "data": {
      "text/plain": [
       "1573422523"
      ]
     },
     "execution_count": 22,
     "metadata": {},
     "output_type": "execute_result"
    }
   ],
   "source": [
    "boston_data[\"dt\"]"
   ]
  },
  {
   "cell_type": "code",
   "execution_count": 23,
   "metadata": {},
   "outputs": [
    {
     "data": {
      "text/plain": [
       "'2019-11-10 21:48:43'"
      ]
     },
     "execution_count": 23,
     "metadata": {},
     "output_type": "execute_result"
    }
   ],
   "source": [
    "from datetime import datetime\n",
    "date=boston_data[\"dt\"]\n",
    "datetime.utcfromtimestamp(date).strftime('%Y-%m-%d %H:%M:%S')"
   ]
  },
  {
   "cell_type": "code",
   "execution_count": 40,
   "metadata": {},
   "outputs": [
    {
     "name": "stdout",
     "output_type": "stream",
     "text": [
      "Beginning Data Retrieval   \n",
      "---------------------------\n",
      "Processing Record1 of Set 1 | rundu\n",
      "Processing Record2 of Set 1 | lasa\n",
      "Processing Record3 of Set 1 | katsuura\n",
      "Processing Record4 of Set 1 | victoria\n",
      "Processing Record5 of Set 1 | okandja\n",
      "Processing Record6 of Set 1 | kapaa\n",
      "Processing Record7 of Set 1 | beringovskiy\n",
      "Processing Record8 of Set 1 | concepcion\n",
      "Processing Record9 of Set 1 | stykkisholmur\n",
      "Processing Record10 of Set 1 | bambous virieux\n",
      "Processing Record11 of Set 1 | fort nelson\n",
      "Processing Record12 of Set 1 | talnakh\n",
      "Processing Record13 of Set 1 | biak\n",
      "Processing Record14 of Set 1 | mandurah\n",
      "Processing Record15 of Set 1 | dubbo\n",
      "Processing Record16 of Set 1 | mataura\n",
      "Processing Record17 of Set 1 | punta arenas\n",
      "Processing Record18 of Set 1 | thompson\n",
      "Processing Record19 of Set 1 | palmeira\n",
      "Processing Record20 of Set 1 | anito\n",
      "Processing Record21 of Set 1 | laguna\n",
      "Processing Record22 of Set 1 | leh\n",
      "Processing Record23 of Set 1 | bandarbeyla\n",
      "Processing Record24 of Set 1 | ushuaia\n",
      "Processing Record25 of Set 1 | ayan\n",
      "Processing Record26 of Set 1 | rikitea\n",
      "Processing Record27 of Set 1 | kaili\n",
      "Processing Record28 of Set 1 | hastings\n",
      "Processing Record29 of Set 1 | hobart\n",
      "Processing Record30 of Set 1 | dikson\n",
      "Processing Record31 of Set 1 | lagoa\n",
      "Processing Record32 of Set 1 | alofi\n",
      "Processing Record33 of Set 1 | qaqortoq\n",
      "Processing Record34 of Set 1 | busselton\n",
      "Processing Record35 of Set 1 | ketchikan\n",
      "Processing Record36 of Set 1 | bonavista\n",
      "Processing Record37 of Set 1 | georgetown\n",
      "Processing Record38 of Set 1 | lorengau\n",
      "Processing Record39 of Set 1 | saleaula\n",
      "Processing Record40 of Set 1 | gryazi\n",
      "Processing Record41 of Set 1 | barrow\n",
      "Processing Record42 of Set 1 | menongue\n",
      "Processing Record43 of Set 1 | new norfolk\n",
      "Processing Record44 of Set 1 | xiaoweizhai\n",
      "Processing Record45 of Set 1 | umm durman\n",
      "Processing Record46 of Set 1 | qaanaaq\n",
      "Processing Record47 of Set 1 | tasiilaq\n",
      "Processing Record48 of Set 1 | kerrville\n",
      "Processing Record49 of Set 1 | hermanus\n",
      "Processing Record50 of Set 1 | lebu\n",
      "Processing Record52 of Set 2 | husavik\n",
      "Processing Record53 of Set 2 | mondeville\n",
      "Processing Record54 of Set 2 | iquitos\n",
      "Processing Record55 of Set 2 | tuktoyaktuk\n",
      "Processing Record56 of Set 2 | albany\n",
      "Processing Record57 of Set 2 | coahuayana\n",
      "Processing Record58 of Set 2 | tura\n",
      "Processing Record59 of Set 2 | taolanaro\n",
      "Processing Record60 of Set 2 | genhe\n",
      "Processing Record61 of Set 2 | vila velha\n",
      "Processing Record62 of Set 2 | belushya guba\n",
      "Processing Record63 of Set 2 | east london\n",
      "Processing Record64 of Set 2 | bredasdorp\n",
      "Processing Record65 of Set 2 | butaritari\n",
      "Processing Record66 of Set 2 | attawapiskat\n",
      "Processing Record67 of Set 2 | hithadhoo\n",
      "Processing Record68 of Set 2 | saskylakh\n",
      "Processing Record69 of Set 2 | hearst\n",
      "Processing Record70 of Set 2 | axim\n",
      "Processing Record71 of Set 2 | lompoc\n",
      "Processing Record72 of Set 2 | saint george\n",
      "Processing Record73 of Set 2 | sinnamary\n",
      "Processing Record74 of Set 2 | porto nacional\n",
      "Processing Record75 of Set 2 | grand river south east\n",
      "Processing Record76 of Set 2 | amderma\n",
      "Processing Record77 of Set 2 | puerto ayora\n",
      "Processing Record78 of Set 2 | conceicao da barra\n",
      "Processing Record79 of Set 2 | umzimvubu\n",
      "Processing Record80 of Set 2 | castro\n",
      "Processing Record81 of Set 2 | presidencia roque saenz pena\n",
      "Processing Record82 of Set 2 | talaya\n",
      "Processing Record83 of Set 2 | anadyr\n",
      "Processing Record84 of Set 2 | mahebourg\n",
      "Processing Record85 of Set 2 | pisco\n",
      "Processing Record86 of Set 2 | illoqqortoormiut\n",
      "Processing Record87 of Set 2 | chuy\n",
      "Processing Record88 of Set 2 | lata\n",
      "Processing Record89 of Set 2 | tessalit\n",
      "Processing Record90 of Set 2 | ust-maya\n",
      "Processing Record91 of Set 2 | caravelas\n",
      "Processing Record92 of Set 2 | chandur bazar\n",
      "Processing Record93 of Set 2 | cayenne\n",
      "Processing Record94 of Set 2 | norman wells\n",
      "Processing Record95 of Set 2 | comodoro rivadavia\n",
      "Processing Record96 of Set 2 | hilo\n",
      "Processing Record97 of Set 2 | naze\n",
      "Processing Record98 of Set 2 | upernavik\n",
      "Processing Record99 of Set 2 | bengkulu\n",
      "Processing Record100 of Set 2 | hervey bay\n",
      "Processing Record101 of Set 2 | vaitupu\n",
      "Processing Record103 of Set 3 | airai\n",
      "Processing Record104 of Set 3 | ancud\n",
      "Processing Record105 of Set 3 | jamestown\n",
      "Processing Record106 of Set 3 | cape town\n",
      "Processing Record107 of Set 3 | mocuba\n",
      "Processing Record108 of Set 3 | yar-sale\n",
      "Processing Record109 of Set 3 | vairao\n",
      "Processing Record110 of Set 3 | barentsburg\n",
      "Processing Record111 of Set 3 | krasnyy yar\n",
      "Processing Record112 of Set 3 | faya\n",
      "Processing Record113 of Set 3 | cherskiy\n",
      "Processing Record114 of Set 3 | costinesti\n",
      "Processing Record115 of Set 3 | cabo san lucas\n",
      "Processing Record116 of Set 3 | saint-francois\n",
      "Processing Record117 of Set 3 | bethel\n",
      "Processing Record118 of Set 3 | mugur-aksy\n",
      "Processing Record119 of Set 3 | kysyl-syr\n",
      "Processing Record120 of Set 3 | linxia\n",
      "Processing Record121 of Set 3 | bideford\n",
      "Processing Record122 of Set 3 | haveri\n",
      "Processing Record123 of Set 3 | tabiauea\n",
      "Processing Record124 of Set 3 | port alfred\n",
      "Processing Record125 of Set 3 | kieta\n",
      "Processing Record126 of Set 3 | carauari\n",
      "Processing Record127 of Set 3 | vanavara\n",
      "Processing Record128 of Set 3 | amga\n",
      "Processing Record129 of Set 3 | pervomayskoye\n",
      "Processing Record130 of Set 3 | kavieng\n",
      "Processing Record131 of Set 3 | takoradi\n",
      "Processing Record132 of Set 3 | maltahohe\n",
      "Processing Record133 of Set 3 | saryshagan\n",
      "Processing Record134 of Set 3 | yellowknife\n",
      "Processing Record135 of Set 3 | marzuq\n",
      "Processing Record136 of Set 3 | burnie\n",
      "Processing Record137 of Set 3 | hauterive\n",
      "Processing Record138 of Set 3 | sitka\n",
      "Processing Record139 of Set 3 | tuatapere\n",
      "Processing Record140 of Set 3 | yermakovskoye\n",
      "Processing Record141 of Set 3 | tiksi\n",
      "Processing Record142 of Set 3 | jerantut\n",
      "Processing Record143 of Set 3 | mar del plata\n",
      "Processing Record144 of Set 3 | mys shmidta\n",
      "Processing Record145 of Set 3 | havre-saint-pierre\n",
      "Processing Record146 of Set 3 | saint-georges\n",
      "Processing Record147 of Set 3 | caucaia\n",
      "Processing Record148 of Set 3 | geraldton\n",
      "Processing Record149 of Set 3 | bluff\n",
      "Processing Record150 of Set 3 | kodiak\n",
      "Processing Record151 of Set 3 | marcona\n",
      "Processing Record152 of Set 3 | aykhal\n",
      "Processing Record154 of Set 4 | camacha\n",
      "Processing Record155 of Set 4 | hit\n",
      "Processing Record156 of Set 4 | ola\n",
      "Processing Record157 of Set 4 | vila\n",
      "Processing Record158 of Set 4 | kruisfontein\n",
      "Processing Record159 of Set 4 | coihaique\n",
      "Processing Record160 of Set 4 | rehoboth\n",
      "Processing Record161 of Set 4 | grindavik\n",
      "Processing Record162 of Set 4 | ossora\n",
      "Processing Record163 of Set 4 | bambanglipuro\n",
      "Processing Record164 of Set 4 | avarua\n",
      "Processing Record165 of Set 4 | atbasar\n",
      "Processing Record166 of Set 4 | kargasok\n",
      "Processing Record167 of Set 4 | osa\n",
      "Processing Record168 of Set 4 | atuona\n",
      "Processing Record169 of Set 4 | katherine\n",
      "Processing Record170 of Set 4 | lodja\n",
      "Processing Record171 of Set 4 | baruun-urt\n",
      "Processing Record172 of Set 4 | santiago\n",
      "Processing Record173 of Set 4 | chokurdakh\n",
      "Processing Record174 of Set 4 | ivanteyevka\n",
      "Processing Record175 of Set 4 | mahibadhoo\n",
      "Processing Record176 of Set 4 | ambilobe\n",
      "Processing Record177 of Set 4 | pacific grove\n",
      "Processing Record178 of Set 4 | pevek\n",
      "Processing Record179 of Set 4 | murupara\n",
      "Processing Record180 of Set 4 | berlevag\n",
      "Processing Record181 of Set 4 | broome\n",
      "Processing Record182 of Set 4 | ribeira grande\n",
      "Processing Record183 of Set 4 | sarankhola\n",
      "Processing Record184 of Set 4 | kaitangata\n",
      "Processing Record185 of Set 4 | esperance\n",
      "Processing Record186 of Set 4 | sabang\n",
      "Processing Record187 of Set 4 | goudomp\n",
      "Processing Record188 of Set 4 | ponta do sol\n",
      "Processing Record189 of Set 4 | flin flon\n",
      "Processing Record190 of Set 4 | zhoucun\n",
      "Processing Record191 of Set 4 | acari\n",
      "Processing Record192 of Set 4 | galgani\n",
      "Processing Record193 of Set 4 | sokolovo\n",
      "Processing Record194 of Set 4 | bayan\n",
      "Processing Record195 of Set 4 | north myrtle beach\n",
      "Processing Record196 of Set 4 | lanzhou\n",
      "Processing Record197 of Set 4 | dingle\n",
      "Processing Record198 of Set 4 | nijar\n",
      "Processing Record199 of Set 4 | kavaratti\n",
      "Processing Record200 of Set 4 | mana\n",
      "Processing Record201 of Set 4 | severo-kurilsk\n",
      "Processing Record202 of Set 4 | buluang\n",
      "Processing Record203 of Set 4 | vaini\n",
      "Processing Record205 of Set 5 | la ronge\n",
      "Processing Record206 of Set 5 | sentyabrskiy\n",
      "Processing Record207 of Set 5 | saint combs\n",
      "Processing Record208 of Set 5 | madridejos\n",
      "Processing Record209 of Set 5 | bonthe\n",
      "Processing Record210 of Set 5 | hamilton\n",
      "Processing Record211 of Set 5 | vaitape\n",
      "Processing Record212 of Set 5 | yulara\n",
      "Processing Record213 of Set 5 | hasaki\n",
      "Processing Record214 of Set 5 | obala\n",
      "Processing Record215 of Set 5 | torbay\n",
      "Processing Record216 of Set 5 | sakakah\n",
      "Processing Record217 of Set 5 | fonte boa\n",
      "Processing Record218 of Set 5 | samalaeulu\n",
      "Processing Record219 of Set 5 | qasigiannguit\n",
      "Processing Record220 of Set 5 | cidreira\n",
      "Processing Record221 of Set 5 | tarija\n",
      "Processing Record222 of Set 5 | juneau\n",
      "Processing Record223 of Set 5 | najran\n",
      "Processing Record224 of Set 5 | nome\n",
      "Processing Record225 of Set 5 | iqaluit\n",
      "Processing Record226 of Set 5 | shenzhen\n",
      "Processing Record227 of Set 5 | arlington\n",
      "Processing Record228 of Set 5 | atikokan\n",
      "Processing Record229 of Set 5 | tshikapa\n",
      "Processing Record230 of Set 5 | trelew\n",
      "Processing Record231 of Set 5 | port lincoln\n",
      "Processing Record232 of Set 5 | codrington\n",
      "Processing Record233 of Set 5 | san ramon\n",
      "Processing Record234 of Set 5 | salekhard\n",
      "Processing Record235 of Set 5 | prainha\n",
      "Processing Record236 of Set 5 | byron bay\n",
      "Processing Record237 of Set 5 | hami\n",
      "Processing Record238 of Set 5 | paamiut\n",
      "Processing Record239 of Set 5 | hofn\n",
      "Processing Record240 of Set 5 | nikolskoye\n",
      "Processing Record241 of Set 5 | taltal\n",
      "Processing Record242 of Set 5 | maldonado\n",
      "Processing Record243 of Set 5 | dzaoudzi\n",
      "Processing Record244 of Set 5 | sayat\n",
      "Processing Record245 of Set 5 | leningradskiy\n",
      "Processing Record246 of Set 5 | saint-augustin\n",
      "Processing Record247 of Set 5 | petatlan\n",
      "Processing Record248 of Set 5 | tautira\n",
      "Processing Record249 of Set 5 | independencia\n",
      "Processing Record250 of Set 5 | daru\n",
      "Processing Record251 of Set 5 | provideniya\n",
      "Processing Record252 of Set 5 | nacala\n",
      "Processing Record253 of Set 5 | namibe\n",
      "Processing Record254 of Set 5 | port blair\n",
      "Processing Record256 of Set 6 | canitas\n",
      "Processing Record257 of Set 6 | la cruz\n",
      "Processing Record258 of Set 6 | klaksvik\n",
      "Processing Record259 of Set 6 | beyneu\n",
      "Processing Record260 of Set 6 | alpena\n",
      "Processing Record261 of Set 6 | inta\n",
      "Processing Record262 of Set 6 | orapa\n",
      "Processing Record263 of Set 6 | manokwari\n",
      "Processing Record264 of Set 6 | arraial do cabo\n",
      "Processing Record265 of Set 6 | alice springs\n",
      "Processing Record266 of Set 6 | ilulissat\n",
      "Processing Record267 of Set 6 | saint-philippe\n",
      "Processing Record268 of Set 6 | gallup\n",
      "Processing Record269 of Set 6 | tsihombe\n",
      "Processing Record270 of Set 6 | hadishahr\n",
      "Processing Record271 of Set 6 | la gaulette\n",
      "Processing Record272 of Set 6 | lyuban\n",
      "Processing Record273 of Set 6 | yamada\n",
      "Processing Record274 of Set 6 | otradnoye\n",
      "Processing Record275 of Set 6 | san cristobal\n",
      "Processing Record276 of Set 6 | pavagada\n",
      "Processing Record277 of Set 6 | yerbogachen\n",
      "Processing Record278 of Set 6 | port hardy\n",
      "Processing Record279 of Set 6 | plettenberg bay\n",
      "Processing Record280 of Set 6 | araouane\n",
      "Processing Record281 of Set 6 | dutlwe\n",
      "Processing Record282 of Set 6 | saldanha\n",
      "Processing Record283 of Set 6 | whyalla\n",
      "Processing Record284 of Set 6 | yanam\n",
      "Processing Record285 of Set 6 | san jose\n",
      "Processing Record286 of Set 6 | henties bay\n",
      "Processing Record287 of Set 6 | yeletskiy\n",
      "Processing Record288 of Set 6 | komagane\n",
      "Processing Record289 of Set 6 | sola\n",
      "Processing Record290 of Set 6 | marienburg\n",
      "Processing Record291 of Set 6 | kalmunai\n",
      "Processing Record292 of Set 6 | marsh harbour\n",
      "Processing Record293 of Set 6 | zhanatas\n",
      "Processing Record294 of Set 6 | tilichiki\n",
      "Processing Record295 of Set 6 | half moon bay\n",
      "Processing Record296 of Set 6 | deputatskiy\n",
      "Processing Record297 of Set 6 | nyurba\n",
      "Processing Record298 of Set 6 | marang\n",
      "Processing Record299 of Set 6 | mogadishu\n",
      "Processing Record300 of Set 6 | honiara\n",
      "Processing Record301 of Set 6 | umm lajj\n",
      "Processing Record302 of Set 6 | maua\n",
      "Processing Record303 of Set 6 | kahului\n",
      "Processing Record304 of Set 6 | beloha\n",
      "Processing Record305 of Set 6 | northam\n",
      "Processing Record307 of Set 7 | labuhan\n",
      "Processing Record308 of Set 7 | nalut\n",
      "Processing Record309 of Set 7 | wuwei\n",
      "Processing Record310 of Set 7 | walvis bay\n",
      "Processing Record311 of Set 7 | clyde river\n",
      "Processing Record312 of Set 7 | mareeba\n",
      "Processing Record313 of Set 7 | aklavik\n",
      "Processing Record314 of Set 7 | alta floresta\n",
      "Processing Record315 of Set 7 | hobyo\n",
      "Processing Record316 of Set 7 | aasiaat\n",
      "Processing Record317 of Set 7 | ceres\n",
      "Processing Record318 of Set 7 | ekangala\n",
      "Processing Record319 of Set 7 | yatou\n",
      "Processing Record320 of Set 7 | luderitz\n",
      "Processing Record321 of Set 7 | barra bonita\n",
      "Processing Record322 of Set 7 | jiaozuo\n",
      "Processing Record323 of Set 7 | wulanhaote\n",
      "Processing Record324 of Set 7 | midyat\n",
      "Processing Record325 of Set 7 | nantucket\n",
      "Processing Record326 of Set 7 | coffs harbour\n",
      "Processing Record327 of Set 7 | lyubymivka\n",
      "Processing Record328 of Set 7 | carnarvon\n",
      "Processing Record329 of Set 7 | cabra\n",
      "Processing Record330 of Set 7 | mamburao\n",
      "Processing Record331 of Set 7 | vao\n",
      "Processing Record332 of Set 7 | huangnihe\n",
      "Processing Record333 of Set 7 | edson\n",
      "Processing Record334 of Set 7 | pital\n",
      "Processing Record335 of Set 7 | vila franca do campo\n",
      "Processing Record336 of Set 7 | petropavlovsk-kamchatskiy\n",
      "Processing Record337 of Set 7 | sioux lookout\n",
      "Processing Record338 of Set 7 | harper\n",
      "Processing Record339 of Set 7 | kirakira\n",
      "Processing Record340 of Set 7 | dinghai\n",
      "Processing Record341 of Set 7 | fare\n",
      "Processing Record342 of Set 7 | opuwo\n",
      "Processing Record343 of Set 7 | tevaitoa\n",
      "Processing Record344 of Set 7 | idanre\n",
      "Processing Record345 of Set 7 | rawson\n",
      "Processing Record346 of Set 7 | raudeberg\n",
      "Processing Record347 of Set 7 | sangar\n",
      "Processing Record348 of Set 7 | noumea\n",
      "Processing Record349 of Set 7 | itapuranga\n",
      "Processing Record350 of Set 7 | sembe\n",
      "Processing Record351 of Set 7 | elizabeth city\n",
      "Processing Record352 of Set 7 | praya\n",
      "Processing Record353 of Set 7 | westport\n",
      "Processing Record354 of Set 7 | prince rupert\n",
      "Processing Record355 of Set 7 | grao mogol\n",
      "Processing Record356 of Set 7 | ocampo\n",
      "Processing Record358 of Set 8 | mount gambier\n",
      "Processing Record359 of Set 8 | myaundzha\n",
      "Processing Record360 of Set 8 | mujiayingzi\n",
      "Processing Record361 of Set 8 | cordoba\n",
      "Processing Record362 of Set 8 | bukachacha\n",
      "Processing Record363 of Set 8 | solnechnyy\n",
      "Processing Record364 of Set 8 | canutama\n",
      "Processing Record365 of Set 8 | sistranda\n",
      "Processing Record366 of Set 8 | lavrentiya\n",
      "Processing Record367 of Set 8 | longyearbyen\n",
      "Processing Record368 of Set 8 | souillac\n",
      "Processing Record369 of Set 8 | xingyi\n",
      "Processing Record370 of Set 8 | buala\n",
      "Processing Record371 of Set 8 | acajutla\n",
      "Processing Record372 of Set 8 | narsaq\n",
      "Processing Record373 of Set 8 | mayo\n",
      "Processing Record374 of Set 8 | saint-paul\n",
      "Processing Record375 of Set 8 | lufilufi\n",
      "Processing Record376 of Set 8 | kurilsk\n",
      "Processing Record377 of Set 8 | jurm\n",
      "Processing Record378 of Set 8 | port augusta\n",
      "Processing Record379 of Set 8 | hualmay\n",
      "Processing Record380 of Set 8 | khatanga\n",
      "Processing Record381 of Set 8 | tunduru\n",
      "Processing Record382 of Set 8 | yuma\n",
      "Processing Record383 of Set 8 | pustomyty\n",
      "Processing Record384 of Set 8 | bilma\n",
      "Processing Record385 of Set 8 | adrar\n",
      "Processing Record386 of Set 8 | nador\n",
      "Processing Record387 of Set 8 | nizhneyansk\n",
      "Processing Record388 of Set 8 | soe\n",
      "Processing Record389 of Set 8 | staryy nadym\n",
      "Processing Record390 of Set 8 | port elizabeth\n",
      "Processing Record391 of Set 8 | senekal\n",
      "Processing Record392 of Set 8 | plover\n",
      "Processing Record393 of Set 8 | abu samrah\n",
      "Processing Record394 of Set 8 | sosnovo-ozerskoye\n",
      "Processing Record395 of Set 8 | nouadhibou\n",
      "Processing Record396 of Set 8 | arlit\n",
      "Processing Record397 of Set 8 | jardim\n",
      "Processing Record398 of Set 8 | padang\n",
      "Processing Record399 of Set 8 | sobolevo\n",
      "Processing Record400 of Set 8 | mehran\n",
      "Processing Record401 of Set 8 | camopi\n",
      "Processing Record402 of Set 8 | navrongo\n",
      "Processing Record403 of Set 8 | rio grande\n",
      "Processing Record404 of Set 8 | mackenzie\n",
      "Processing Record405 of Set 8 | palabuhanratu\n",
      "Processing Record406 of Set 8 | gat\n",
      "Processing Record407 of Set 8 | kincardine\n",
      "Processing Record409 of Set 9 | tabuk\n",
      "Processing Record410 of Set 9 | batagay\n",
      "Processing Record411 of Set 9 | bria\n",
      "Processing Record412 of Set 9 | chifeng\n",
      "Processing Record413 of Set 9 | san policarpo\n",
      "Processing Record414 of Set 9 | rabnita\n",
      "Processing Record415 of Set 9 | kommunar\n",
      "Processing Record416 of Set 9 | canberra\n",
      "Processing Record417 of Set 9 | sao felix do xingu\n",
      "Processing Record418 of Set 9 | visby\n",
      "Processing Record419 of Set 9 | krasnoarmeysk\n",
      "Processing Record420 of Set 9 | constitucion\n",
      "Processing Record421 of Set 9 | barra patuca\n",
      "Processing Record422 of Set 9 | carutapera\n",
      "Processing Record423 of Set 9 | tarakan\n",
      "Processing Record424 of Set 9 | la palma\n",
      "Processing Record425 of Set 9 | zhigalovo\n",
      "Processing Record426 of Set 9 | doka\n",
      "Processing Record427 of Set 9 | pangnirtung\n",
      "Processing Record428 of Set 9 | bestobe\n",
      "Processing Record429 of Set 9 | san patricio\n",
      "Processing Record430 of Set 9 | maragogi\n",
      "Processing Record431 of Set 9 | sorland\n",
      "Processing Record432 of Set 9 | bossangoa\n",
      "Processing Record433 of Set 9 | vostok\n",
      "Processing Record434 of Set 9 | andarab\n",
      "Processing Record435 of Set 9 | tabulbah\n",
      "Processing Record436 of Set 9 | mentok\n",
      "Processing Record437 of Set 9 | general roca\n",
      "Processing Record438 of Set 9 | asfi\n",
      "Processing Record439 of Set 9 | santa ines\n",
      "Processing Record440 of Set 9 | lithgow\n",
      "Processing Record441 of Set 9 | novoilinsk\n",
      "Processing Record442 of Set 9 | te anau\n",
      "Processing Record443 of Set 9 | kholtoson\n",
      "Processing Record444 of Set 9 | grand forks\n",
      "Processing Record445 of Set 9 | alekseyevsk\n",
      "Processing Record446 of Set 9 | necochea\n",
      "Processing Record447 of Set 9 | sao filipe\n",
      "Processing Record448 of Set 9 | yomitan\n",
      "Processing Record449 of Set 9 | kaseda\n",
      "Processing Record450 of Set 9 | saladoblanco\n",
      "Processing Record451 of Set 9 | kloulklubed\n",
      "Processing Record452 of Set 9 | marystown\n",
      "Processing Record453 of Set 9 | caruray\n",
      "Processing Record454 of Set 9 | moa\n",
      "Processing Record455 of Set 9 | nanortalik\n",
      "Processing Record456 of Set 9 | batabano\n",
      "Processing Record457 of Set 9 | progreso\n",
      "Processing Record458 of Set 9 | sept-iles\n",
      "Processing Record460 of Set 10 | asau\n",
      "Processing Record461 of Set 10 | mezen\n",
      "Processing Record462 of Set 10 | isangel\n",
      "Processing Record463 of Set 10 | virginia beach\n",
      "Processing Record464 of Set 10 | acapulco\n",
      "Processing Record465 of Set 10 | port-gentil\n",
      "Processing Record466 of Set 10 | samusu\n",
      "Processing Record467 of Set 10 | socorro\n",
      "Processing Record468 of Set 10 | atar\n",
      "Processing Record469 of Set 10 | oktyabrskiy\n",
      "Processing Record470 of Set 10 | fortuna\n",
      "Processing Record471 of Set 10 | haines junction\n",
      "Processing Record472 of Set 10 | konya\n",
      "Processing Record473 of Set 10 | merauke\n",
      "Processing Record474 of Set 10 | mount isa\n",
      "Processing Record475 of Set 10 | kayerkan\n",
      "Processing Record476 of Set 10 | yuci\n",
      "Processing Record477 of Set 10 | kapoeta\n",
      "Processing Record478 of Set 10 | macapa\n",
      "Processing Record479 of Set 10 | bonfim\n",
      "Processing Record480 of Set 10 | newport\n",
      "Processing Record481 of Set 10 | san quintin\n",
      "Processing Record482 of Set 10 | flinders\n",
      "Processing Record483 of Set 10 | sulangan\n",
      "Processing Record484 of Set 10 | senanga\n",
      "Processing Record485 of Set 10 | autazes\n",
      "Processing Record486 of Set 10 | casper\n",
      "Processing Record487 of Set 10 | matiri\n",
      "Processing Record488 of Set 10 | krasnyy chikoy\n",
      "Processing Record489 of Set 10 | kiknur\n",
      "Processing Record490 of Set 10 | villa carlos paz\n",
      "Processing Record491 of Set 10 | langsa\n",
      "Processing Record492 of Set 10 | moron\n",
      "Processing Record493 of Set 10 | manaure\n",
      "Processing Record494 of Set 10 | kokopo\n",
      "Processing Record495 of Set 10 | port hedland\n",
      "Processing Record496 of Set 10 | makakilo city\n",
      "Processing Record497 of Set 10 | esna\n",
      "Processing Record498 of Set 10 | bokspits\n",
      "Processing Record499 of Set 10 | ibicarai\n",
      "Processing Record500 of Set 10 | popondetta\n",
      "Processing Record501 of Set 10 | wewak\n",
      "Processing Record502 of Set 10 | gualeguaychu\n",
      "Processing Record503 of Set 10 | oum hadjer\n",
      "Processing Record504 of Set 10 | seymchan\n",
      "Processing Record505 of Set 10 | fukue\n",
      "Processing Record506 of Set 10 | zhezkazgan\n",
      "Processing Record507 of Set 10 | baykit\n",
      "Processing Record508 of Set 10 | macaubas\n",
      "Processing Record509 of Set 10 | tudela\n",
      "Processing Record511 of Set 11 | braintree\n",
      "Processing Record512 of Set 11 | inirida\n",
      "Processing Record513 of Set 11 | chapais\n",
      "Processing Record514 of Set 11 | egvekinot\n",
      "Processing Record515 of Set 11 | jeremie\n",
      "Processing Record516 of Set 11 | muli\n",
      "Processing Record517 of Set 11 | marv dasht\n",
      "Processing Record518 of Set 11 | askiz\n",
      "Processing Record519 of Set 11 | gold coast\n",
      "Processing Record520 of Set 11 | pedernales\n",
      "Processing Record521 of Set 11 | kushuhum\n",
      "Processing Record522 of Set 11 | jumla\n",
      "Processing Record523 of Set 11 | bilibino\n",
      "Processing Record524 of Set 11 | lufkin\n",
      "Processing Record525 of Set 11 | astoria\n",
      "Processing Record526 of Set 11 | belmonte\n",
      "Processing Record527 of Set 11 | zhenlai\n",
      "Processing Record528 of Set 11 | havelock\n",
      "Processing Record529 of Set 11 | niamey\n",
      "Processing Record530 of Set 11 | waddan\n",
      "Processing Record531 of Set 11 | vitim\n",
      "Processing Record532 of Set 11 | victoria point\n",
      "Processing Record533 of Set 11 | ponta delgada\n",
      "Processing Record534 of Set 11 | sabha\n",
      "Processing Record535 of Set 11 | roald\n",
      "Processing Record536 of Set 11 | seminole\n",
      "Processing Record537 of Set 11 | mortka\n",
      "Processing Record538 of Set 11 | los llanos de aridane\n",
      "Processing Record539 of Set 11 | touros\n",
      "Processing Record540 of Set 11 | gunjur\n",
      "Processing Record541 of Set 11 | avesta\n",
      "Processing Record542 of Set 11 | madang\n",
      "Processing Record543 of Set 11 | solikamsk\n",
      "Processing Record544 of Set 11 | sao miguel do araguaia\n",
      "Processing Record545 of Set 11 | muros\n",
      "Processing Record546 of Set 11 | viransehir\n",
      "Processing Record547 of Set 11 | andenes\n",
      "Processing Record548 of Set 11 | pinczow\n",
      "Processing Record549 of Set 11 | murgab\n",
      "Processing Record550 of Set 11 | praia da vitoria\n",
      "Processing Record551 of Set 11 | liverpool\n",
      "Processing Record552 of Set 11 | hambantota\n",
      "Processing Record553 of Set 11 | vilyuysk\n",
      "Processing Record554 of Set 11 | davila\n",
      "Processing Record555 of Set 11 | altamira\n",
      "Processing Record556 of Set 11 | kenai\n",
      "Processing Record557 of Set 11 | balabac\n",
      "Processing Record558 of Set 11 | waipawa\n",
      "Processing Record559 of Set 11 | auki\n",
      "Processing Record560 of Set 11 | uusikaupunki\n",
      "Processing Record562 of Set 12 | monterey\n",
      "Processing Record563 of Set 12 | shetpe\n",
      "Processing Record564 of Set 12 | slupsk\n",
      "Processing Record565 of Set 12 | agadez\n",
      "Processing Record566 of Set 12 | jeremoabo\n",
      "Processing Record567 of Set 12 | doctor pedro p. pena\n",
      "Processing Record568 of Set 12 | grand gaube\n",
      "Processing Record569 of Set 12 | ampanihy\n",
      "Processing Record570 of Set 12 | cacequi\n",
      "Processing Record571 of Set 12 | mecca\n",
      "Processing Record572 of Set 12 | bathsheba\n",
      "Processing Record573 of Set 12 | cacoal\n",
      "Processing Record574 of Set 12 | galveston\n",
      "Processing Record575 of Set 12 | cumaribo\n",
      "Processing Record576 of Set 12 | kolondieba\n",
      "Processing Record577 of Set 12 | kidal\n",
      "Processing Record578 of Set 12 | tanggu\n",
      "Processing Record579 of Set 12 | luwuk\n",
      "Processing Record580 of Set 12 | saint-pierre\n",
      "Processing Record581 of Set 12 | nampula\n",
      "Processing Record582 of Set 12 | komsomolskiy\n",
      "Processing Record583 of Set 12 | siavonga\n",
      "Processing Record584 of Set 12 | chagda\n",
      "Processing Record585 of Set 12 | maroantsetra\n",
      "Processing Record586 of Set 12 | la peca\n",
      "Processing Record587 of Set 12 | turan\n",
      "Processing Record588 of Set 12 | asyut\n",
      "Processing Record589 of Set 12 | gizo\n",
      "Processing Record590 of Set 12 | provost\n",
      "Processing Record591 of Set 12 | pulaski\n",
      "Processing Record592 of Set 12 | hialeah gardens\n",
      "Processing Record593 of Set 12 | carson city\n",
      "Processing Record594 of Set 12 | jackson\n",
      "Processing Record595 of Set 12 | rafraf\n",
      "Processing Record596 of Set 12 | richards bay\n",
      "Processing Record597 of Set 12 | bubaque\n",
      "Processing Record598 of Set 12 | benjamin hill\n",
      "Processing Record599 of Set 12 | rabo de peixe\n",
      "Processing Record600 of Set 12 | marsa matruh\n",
      "Processing Record601 of Set 12 | kongolo\n",
      "Processing Record602 of Set 12 | ngorongoro\n",
      "Processing Record603 of Set 12 | buzmeyin\n",
      "Processing Record604 of Set 12 | kuche\n",
      "Processing Record605 of Set 12 | xichang\n",
      "Processing Record606 of Set 12 | karlstad\n",
      "Processing Record607 of Set 12 | porto santo\n",
      "Processing Record608 of Set 12 | puerto leguizamo\n"
     ]
    }
   ],
   "source": [
    "# retrive data for 500+ city\n",
    "city_data=[]\n",
    "print(\"Beginning Data Retrieval   \")\n",
    "print(\"---------------------------\")\n",
    "\n",
    "record_count=1\n",
    "set_count=1\n",
    "for i ,city in enumerate(cities):\n",
    "    if(i%50==0 and i>=50):\n",
    "        set_count+=1\n",
    "        record_count+=1\n",
    "    city_url=url +\"&q=\" +\"i\"\n",
    "        \n",
    "    print(f\"Processing Record{record_count} of Set {set_count} | {city}\")\n",
    "    record_count+=1"
   ]
  },
  {
   "cell_type": "code",
   "execution_count": 41,
   "metadata": {},
   "outputs": [],
   "source": [
    "cities=[\"Pittsburgh\",\"Austin\",'New  York',\"Los Angeles\",\"Seattle\"]"
   ]
  },
  {
   "cell_type": "code",
   "execution_count": 42,
   "metadata": {},
   "outputs": [
    {
     "name": "stdout",
     "output_type": "stream",
     "text": [
      "It is currently 52.05 degreses in Pittsburgh\n",
      "It is currently 71.26 degreses in Austin\n",
      "KeyError received onNew  York\n",
      "It is currently 72.93 degreses in Los Angeles\n",
      "It is currently 52.5 degreses in Seattle\n"
     ]
    }
   ],
   "source": [
    "for city in cities:\n",
    "    try:\n",
    "        city_url=url+\"&q=\"+city\n",
    "        weather=req.get(city_url).json()\n",
    "        temp=weather[\"main\"][\"temp\"]\n",
    "    except KeyError:\n",
    "        print('KeyError received on'+city)\n",
    "        continue\n",
    "    print(\"It is currently \"+str(temp)+\" degreses in \" +city)"
   ]
  },
  {
   "cell_type": "code",
   "execution_count": 43,
   "metadata": {},
   "outputs": [
    {
     "name": "stdout",
     "output_type": "stream",
     "text": [
      "City weather found.\n"
     ]
    }
   ],
   "source": [
    "##create an endpoint URL for a city\n",
    "url = \"http://api.openweathermap.org/data/2.5/weather?units=Imperial&APPID=\" + weather_api_key\n",
    "city_url= url + \"&q=\"+\"Boston\"\n",
    "city_weather=requests.get(city_url)\n",
    "if city_weather.status_code ==200:\n",
    "    print(f\"City weather found.\")\n",
    "else:\n",
    "    print(f\"city weather not found\")"
   ]
  },
  {
   "cell_type": "code",
   "execution_count": 15,
   "metadata": {},
   "outputs": [
    {
     "data": {
      "text/plain": [
       "583"
      ]
     },
     "execution_count": 15,
     "metadata": {},
     "output_type": "execute_result"
    }
   ],
   "source": [
    "lats = np.random.uniform(low=-90.000, high=90.000, size=1500)\n",
    "lngs = np.random.uniform(low=-180.000, high=180.000, size=1500)\n",
    "lat_lngs = zip(lats, lngs)\n",
    "cities = []\n",
    "# Identify the nearest city for each latitude and longitude combination.\n",
    "for lat_lng in lat_lngs:\n",
    "    city = citipy.nearest_city(lat_lng[0], lat_lng[1]).city_name\n",
    "\n",
    "    # If the city is unique, then we will add it to the cities list.\n",
    "    if city not in cities:\n",
    "        cities.append(city)\n",
    "# Print the city count to confirm sufficient count.\n",
    "len(cities)\n"
   ]
  },
  {
   "cell_type": "code",
   "execution_count": 19,
   "metadata": {},
   "outputs": [
    {
     "name": "stdout",
     "output_type": "stream",
     "text": [
      "It is currently 10.4 degreses in Tuktoyaktuk\n",
      "It is currently 65.44 degreses in Hermanus\n",
      "It is currently 84.58 degreses in Bluff\n",
      "It is currently 64 degreses in Port Alfred\n"
     ]
    }
   ],
   "source": [
    "import requests as req\n",
    "cities=['Tuktoyaktuk','Hermanus','Bluff','Port Alfred']\n",
    "url = \"http://api.openweathermap.org/data/2.5/weather?units=Imperial&APPID=\" + weather_api_key\n",
    "for city in cities:\n",
    "    try:\n",
    "        city_url=url+\"&q=\"+city\n",
    "        weather=req.get(city_url).json()\n",
    "        temp=weather[\"main\"][\"temp\"]\n",
    "    except KeyError:\n",
    "        print('KeyError received on'+city)\n",
    "        continue\n",
    "    print(\"It is currently \"+str(temp)+\" degreses in \" +city)"
   ]
  },
  {
   "cell_type": "code",
   "execution_count": 28,
   "metadata": {},
   "outputs": [
    {
     "name": "stdout",
     "output_type": "stream",
     "text": [
      "Beginning Data Retrieval   \n",
      "---------------------------\n",
      "Processing Record0 of Set 1 | Tuktoyaktuk\n",
      "City not found. Skipping...\n",
      "Processing Record1 of Set 1 | Hermanus\n",
      "City not found. Skipping...\n",
      "Processing Record2 of Set 1 | Bluff\n",
      "City not found. Skipping...\n",
      "Processing Record3 of Set 1 | Port Alfred\n",
      "City not found. Skipping...\n",
      "-----------------------\n",
      "Data Retrieval Complete\n",
      "-----------------------\n"
     ]
    }
   ],
   "source": [
    "# retrive data for 500+ city\n",
    "city_data=[]\n",
    "print(\"Beginning Data Retrieval   \")\n",
    "print(\"---------------------------\")\n",
    "record_count=1\n",
    "set_count=1\n",
    "\n",
    "for i ,city in enumerate(cities):\n",
    "    if(i%50==0 and i>=50):\n",
    "        set_count+=1\n",
    "        record_count+=1\n",
    "    city_url=url +\"&q=\" +\"i\"\n",
    "        \n",
    "    print(f\"Processing Record{record_count} of Set {set_count} | {city}\")\n",
    "    record_count+=1\n",
    "\n",
    "    try:\n",
    "        city_weather=requests.get(city_url).json()\n",
    "        city_lat = city_weather[\"coord\"][\"lat\"]\n",
    "        city_lng = city_weather[\"coord\"][\"lon\"]\n",
    "        city_max_temp = city_weather[\"main\"][\"temp_max\"]\n",
    "        city_humidity = city_weather[\"main\"][\"humidity\"]\n",
    "        city_clouds = city_weather[\"clouds\"][\"all\"]\n",
    "        city_wind = city_weather[\"wind\"][\"speed\"]\n",
    "        city_country = city_weather[\"sys\"][\"country\"]\n",
    "        #time/date conversion\n",
    "        city_date=datatime.utcformatimestamp(city_weather[\"dt\"]).strftime('%Y-%m-%d %H:%M:%s')\n",
    "        city_data.append({\"City\":city.title(),\n",
    "                         \"Lat\":city_lat,\n",
    "                         \"Lng\":city_lng,\n",
    "                         \"Max Temp\":city_max_temp,\n",
    "                         \"Humidity\":city_humidity,\n",
    "                         \"Cloudness\":city_clouds,\n",
    "                         \"Wind Speed\":city_wind,\n",
    "                         \"Country\" :city_country,\n",
    "                         \"Date\":city_date})\n",
    "    except:\n",
    "        print(\"City not found. Skipping...\")\n",
    "        pass\n",
    "\n",
    "print(\"-----------------------\")\n",
    "print(\"Data Retrieval Complete\")\n",
    "print(\"-----------------------\")"
   ]
  },
  {
   "cell_type": "code",
   "execution_count": 43,
   "metadata": {},
   "outputs": [
    {
     "data": {
      "text/html": [
       "<div>\n",
       "<style scoped>\n",
       "    .dataframe tbody tr th:only-of-type {\n",
       "        vertical-align: middle;\n",
       "    }\n",
       "\n",
       "    .dataframe tbody tr th {\n",
       "        vertical-align: top;\n",
       "    }\n",
       "\n",
       "    .dataframe thead th {\n",
       "        text-align: right;\n",
       "    }\n",
       "</style>\n",
       "<table border=\"1\" class=\"dataframe\">\n",
       "  <thead>\n",
       "    <tr style=\"text-align: right;\">\n",
       "      <th></th>\n",
       "    </tr>\n",
       "  </thead>\n",
       "  <tbody>\n",
       "  </tbody>\n",
       "</table>\n",
       "</div>"
      ],
      "text/plain": [
       "Empty DataFrame\n",
       "Columns: []\n",
       "Index: []"
      ]
     },
     "execution_count": 43,
     "metadata": {},
     "output_type": "execute_result"
    }
   ],
   "source": [
    "city_data_df=pd.DataFrame(city_data)\n",
    "city_data_df.head(10)"
   ]
  },
  {
   "cell_type": "code",
   "execution_count": 50,
   "metadata": {},
   "outputs": [
    {
     "data": {
      "text/plain": [
       "{'coord': {'lon': -133.03, 'lat': 69.44},\n",
       " 'weather': [{'id': 800,\n",
       "   'main': 'Clear',\n",
       "   'description': 'clear sky',\n",
       "   'icon': '01d'}],\n",
       " 'base': 'stations',\n",
       " 'main': {'temp': 10.4,\n",
       "  'pressure': 1015,\n",
       "  'humidity': 78,\n",
       "  'temp_min': 10.4,\n",
       "  'temp_max': 10.4},\n",
       " 'visibility': 24140,\n",
       " 'wind': {'speed': 8.05, 'deg': 240},\n",
       " 'clouds': {'all': 5},\n",
       " 'dt': 1573426794,\n",
       " 'sys': {'type': 1,\n",
       "  'id': 942,\n",
       "  'country': 'CA',\n",
       "  'sunrise': 1573408872,\n",
       "  'sunset': 1573427458},\n",
       " 'timezone': -25200,\n",
       " 'id': 6170031,\n",
       " 'name': 'Tuktoyaktuk',\n",
       " 'cod': 200}"
      ]
     },
     "execution_count": 50,
     "metadata": {},
     "output_type": "execute_result"
    }
   ],
   "source": [
    "city_url=url+\"&q=\"+\"Tuktoyaktuk\"\n",
    "city_weather=requests.get(city_url).json()\n",
    "city_weather"
   ]
  },
  {
   "cell_type": "code",
   "execution_count": 49,
   "metadata": {},
   "outputs": [
    {
     "name": "stdout",
     "output_type": "stream",
     "text": [
      "Beginning Data Retrieval   \n",
      "---------------------------\n",
      "Processing Record 1 of Set 1 | Tuktoyaktuk\n",
      "City not found. Skipping...\n",
      "Processing Record 2 of Set 1 | Hermanus\n",
      "City not found. Skipping...\n",
      "Processing Record 3 of Set 1 | Bluff\n",
      "City not found. Skipping...\n",
      "Processing Record 4 of Set 1 | Port Alfred\n",
      "City not found. Skipping...\n",
      "-----------------------\n",
      "Data Retrieval Complete\n",
      "-----------------------\n"
     ]
    }
   ],
   "source": [
    "url = \"http://api.openweathermap.org/data/2.5/weather?units=Imperial&APPID=\" + weather_api_key\n",
    "cities=['Tuktoyaktuk','Hermanus','Bluff','Port Alfred']\n",
    "\n",
    "city_data=[]\n",
    "print(\"Beginning Data Retrieval   \")\n",
    "print(\"---------------------------\")\n",
    "\n",
    "#Counters for cities\n",
    "record_count=1\n",
    "set_count=1\n",
    "\n",
    "for i, city in enumerate(cities):\n",
    "    if(i%50==0 and i >=50):\n",
    "        set_count+=1\n",
    "        record_count=0\n",
    "    #create endpoint URL for each city\n",
    "    city_url=url +\"&q=\"+ city\n",
    "    print(\"Processing Record %s of Set %s | %s\" % (record_count, set_count, city))\n",
    "\n",
    "    record_count+=1\n",
    "    try:\n",
    "        city_weather=requests.get(city_url).json()\n",
    "        city_lat = city_weather[\"coord\"][\"lat\"]\n",
    "        city_lng = city_weather[\"coord\"][\"lon\"]\n",
    "        city_max_temp = city_weather[\"main\"][\"temp_max\"]\n",
    "        city_humidity = city_weather[\"main\"][\"humidity\"]\n",
    "        city_clouds = city_weather[\"clouds\"][\"all\"]\n",
    "        city_wind = city_weather[\"wind\"][\"speed\"]\n",
    "        city_country = city_weather[\"sys\"][\"country\"]\n",
    "        #time/date conversion\n",
    "        city_date=datatime.utcformatimestamp(city_weather[\"dt\"]).strftime('%Y-%m-%d %H:%M:%s')\n",
    "        city_data.append({\"City\":city.title(),\n",
    "                         \"Lat\":city_lat,\n",
    "                         \"Lng\":city_lng,\n",
    "                         \"Max Temp\":city_max_temp,\n",
    "                         \"Humidity\":city_humidity,\n",
    "                         \"Cloudness\":city_clouds,\n",
    "                         \"Wind Speed\":city_wind,\n",
    "                         \"Country\" :city_country,\n",
    "                         \"Date\":city_date})\n",
    "    except:\n",
    "        print(\"City not found. Skipping...\")\n",
    "        pass\n",
    "\n",
    "print(\"-----------------------\")\n",
    "print(\"Data Retrieval Complete\")\n",
    "print(\"-----------------------\")\n"
   ]
  },
  {
   "cell_type": "code",
   "execution_count": null,
   "metadata": {},
   "outputs": [],
   "source": []
  }
 ],
 "metadata": {
  "kernelspec": {
   "display_name": "PythonData",
   "language": "python",
   "name": "pythondata"
  },
  "language_info": {
   "codemirror_mode": {
    "name": "ipython",
    "version": 3
   },
   "file_extension": ".py",
   "mimetype": "text/x-python",
   "name": "python",
   "nbconvert_exporter": "python",
   "pygments_lexer": "ipython3",
   "version": "3.6.9"
  }
 },
 "nbformat": 4,
 "nbformat_minor": 2
}
